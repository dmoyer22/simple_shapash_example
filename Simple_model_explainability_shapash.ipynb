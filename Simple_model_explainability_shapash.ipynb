{
 "cells": [
  {
   "cell_type": "markdown",
   "id": "c988bd56",
   "metadata": {
    "toc": true
   },
   "source": [
    "<h1>Table of Contents<span class=\"tocSkip\"></span></h1>\n",
    "<div class=\"toc\"><ul class=\"toc-item\"><li><span><a href=\"#Prepping-the-data\" data-toc-modified-id=\"Prepping-the-data-1\"><span class=\"toc-item-num\">1&nbsp;&nbsp;</span>Prepping the data</a></span><ul class=\"toc-item\"><li><span><a href=\"#Read-the-file\" data-toc-modified-id=\"Read-the-file-1.1\"><span class=\"toc-item-num\">1.1&nbsp;&nbsp;</span>Read the file</a></span></li><li><span><a href=\"#Split-features-and-targets\" data-toc-modified-id=\"Split-features-and-targets-1.2\"><span class=\"toc-item-num\">1.2&nbsp;&nbsp;</span>Split features and targets</a></span></li><li><span><a href=\"#Remove-unneeded-columns\" data-toc-modified-id=\"Remove-unneeded-columns-1.3\"><span class=\"toc-item-num\">1.3&nbsp;&nbsp;</span>Remove unneeded columns</a></span></li><li><span><a href=\"#Renaming-columns---optional\" data-toc-modified-id=\"Renaming-columns---optional-1.4\"><span class=\"toc-item-num\">1.4&nbsp;&nbsp;</span>Renaming columns - optional</a></span></li><li><span><a href=\"#Convert-categorical-features\" data-toc-modified-id=\"Convert-categorical-features-1.5\"><span class=\"toc-item-num\">1.5&nbsp;&nbsp;</span>Convert categorical features</a></span></li></ul></li><li><span><a href=\"#Split-the-data-into-train-and-test\" data-toc-modified-id=\"Split-the-data-into-train-and-test-2\"><span class=\"toc-item-num\">2&nbsp;&nbsp;</span>Split the data into train and test</a></span></li><li><span><a href=\"#Train-a-simple-regressor-model\" data-toc-modified-id=\"Train-a-simple-regressor-model-3\"><span class=\"toc-item-num\">3&nbsp;&nbsp;</span>Train a simple regressor model</a></span></li><li><span><a href=\"#Run-predictions\" data-toc-modified-id=\"Run-predictions-4\"><span class=\"toc-item-num\">4&nbsp;&nbsp;</span>Run predictions</a></span></li><li><span><a href=\"#Using-the-actual-shapash-package\" data-toc-modified-id=\"Using-the-actual-shapash-package-5\"><span class=\"toc-item-num\">5&nbsp;&nbsp;</span>Using the actual shapash package</a></span><ul class=\"toc-item\"><li><span><a href=\"#Declare-the-SmartExplainer-object\" data-toc-modified-id=\"Declare-the-SmartExplainer-object-5.1\"><span class=\"toc-item-num\">5.1&nbsp;&nbsp;</span>Declare the SmartExplainer object</a></span></li><li><span><a href=\"#Compile-Model,-Dataset,-Encoders\" data-toc-modified-id=\"Compile-Model,-Dataset,-Encoders-5.2\"><span class=\"toc-item-num\">5.2&nbsp;&nbsp;</span>Compile Model, Dataset, Encoders</a></span></li><li><span><a href=\"#Display-output-as-interactive-app\" data-toc-modified-id=\"Display-output-as-interactive-app-5.3\"><span class=\"toc-item-num\">5.3&nbsp;&nbsp;</span>Display output as interactive app</a></span></li><li><span><a href=\"#Show-feature-explainability\" data-toc-modified-id=\"Show-feature-explainability-5.4\"><span class=\"toc-item-num\">5.4&nbsp;&nbsp;</span>Show feature explainability</a></span></li><li><span><a href=\"#Generate-the-Shapash-Report\" data-toc-modified-id=\"Generate-the-Shapash-Report-5.5\"><span class=\"toc-item-num\">5.5&nbsp;&nbsp;</span>Generate the Shapash Report</a></span></li></ul></li></ul></div>"
   ]
  },
  {
   "cell_type": "markdown",
   "id": "f4e15df7",
   "metadata": {},
   "source": [
    "# Simple Model Explainbility - Shapash"
   ]
  },
  {
   "cell_type": "code",
   "execution_count": 1,
   "id": "030ae7c9",
   "metadata": {},
   "outputs": [],
   "source": [
    "# shapash install info\n",
    "# https://shapash.readthedocs.io/en/latest/installation-instructions/index.html\n",
    "# https://github.com/MAIF/shapash\n",
    "\n",
    "from shapash.explainer.smart_explainer import SmartExplainer\n",
    "import pandas as pd\n",
    "from category_encoders import OrdinalEncoder\n",
    "from sklearn.model_selection import train_test_split\n",
    "from lightgbm import LGBMRegressor\n",
    "import os\n",
    "import warnings\n",
    "\n",
    "\n",
    "warnings.filterwarnings(\"ignore\")"
   ]
  },
  {
   "cell_type": "markdown",
   "id": "3b5e7c30",
   "metadata": {},
   "source": [
    "## Prepping the data"
   ]
  },
  {
   "cell_type": "markdown",
   "id": "3c76a666",
   "metadata": {},
   "source": [
    "### Read the file"
   ]
  },
  {
   "cell_type": "code",
   "execution_count": 2,
   "id": "9c463921",
   "metadata": {},
   "outputs": [
    {
     "name": "stdout",
     "output_type": "stream",
     "text": [
      "Index(['CustomerID', 'Genre', 'Age', 'Annual Income (k$)',\n",
      "       'Spending Score (1-100)'],\n",
      "      dtype='object')\n",
      "(200, 5)\n",
      "   CustomerID Genre  Age  Annual Income (k$)  Spending Score (1-100)\n",
      "0           1  Male   19                  15                      39\n",
      "1           2  Male   21                  15                      81\n"
     ]
    }
   ],
   "source": [
    "# Let's get some public available data \n",
    "# download https://www.kaggle.com/shwetabh123/mall-customers\n",
    "input_df = pd.read_csv('Mall_Customers.csv')\n",
    "print(input_df.columns)\n",
    "print(input_df.shape)\n",
    "print(input_df.head(2))"
   ]
  },
  {
   "cell_type": "markdown",
   "id": "67cb09ea",
   "metadata": {},
   "source": [
    "### Split features and targets"
   ]
  },
  {
   "cell_type": "code",
   "execution_count": 3,
   "id": "2c114c87",
   "metadata": {},
   "outputs": [],
   "source": [
    "# Split into features and targets\n",
    "y_df = input_df['Spending Score (1-100)'].to_frame()\n",
    "X_df = input_df[input_df.columns.difference(['Spending Score (1-100)'])]"
   ]
  },
  {
   "cell_type": "markdown",
   "id": "da12d6c3",
   "metadata": {},
   "source": [
    "### Remove unneeded columns"
   ]
  },
  {
   "cell_type": "code",
   "execution_count": 4,
   "id": "c2f60e24",
   "metadata": {},
   "outputs": [
    {
     "name": "stdout",
     "output_type": "stream",
     "text": [
      "Index(['Age', 'Annual Income (k$)', 'Genre'], dtype='object')\n"
     ]
    }
   ],
   "source": [
    "# Removing CustomerID as it doesn't add value\n",
    "X_df = X_df.drop(labels=['CustomerID'],axis=1,inplace=False)\n",
    "print(X_df.columns)"
   ]
  },
  {
   "cell_type": "markdown",
   "id": "b59384bd",
   "metadata": {},
   "source": [
    "### Renaming columns - optional"
   ]
  },
  {
   "cell_type": "code",
   "execution_count": 5,
   "id": "f0177866",
   "metadata": {},
   "outputs": [],
   "source": [
    "# Let's rename the Annual Income , Genre/Gender and Spending Score columns \n",
    "X_df = X_df.rename(columns={\"Annual_income (k$)\": \"Income\", \"Genre\": \"Gender\"})\n",
    "y_df = y_df.rename(columns={\"Spending Score (1-100)\" : \"Spending_Score\"})"
   ]
  },
  {
   "cell_type": "markdown",
   "id": "cf6ec113",
   "metadata": {},
   "source": [
    "### Convert categorical features"
   ]
  },
  {
   "cell_type": "code",
   "execution_count": 6,
   "id": "8c0f0376",
   "metadata": {},
   "outputs": [],
   "source": [
    "# The gender column needs to be a category\n",
    "categorical_features = [col for col in X_df.columns if X_df[col].dtype == 'object']\n",
    "\n",
    "encoder = OrdinalEncoder(\n",
    "    cols=categorical_features,\n",
    "    handle_unknown='ignore',\n",
    "    return_df=True).fit(X_df)\n",
    "\n",
    "X_df=encoder.transform(X_df)"
   ]
  },
  {
   "cell_type": "markdown",
   "id": "1fbf174f",
   "metadata": {},
   "source": [
    "## Split the data into train and test"
   ]
  },
  {
   "cell_type": "code",
   "execution_count": 7,
   "id": "f21623b4",
   "metadata": {},
   "outputs": [],
   "source": [
    "# Time to split the dataset into train and test\n",
    "# There aren't many samples. You probably won't need a 60/40 split...most likely 80/20.\n",
    "Xtrain, Xtest, ytrain, ytest = train_test_split(X_df, y_df, train_size=0.60, random_state=1)"
   ]
  },
  {
   "cell_type": "markdown",
   "id": "a52ea164",
   "metadata": {},
   "source": [
    "## Train a simple regressor model"
   ]
  },
  {
   "cell_type": "code",
   "execution_count": 8,
   "id": "b3c88199",
   "metadata": {},
   "outputs": [],
   "source": [
    "# Train a simple model\n",
    "regressor = LGBMRegressor(n_estimators=50).fit(Xtrain,ytrain)"
   ]
  },
  {
   "cell_type": "markdown",
   "id": "b1aec635",
   "metadata": {},
   "source": [
    "## Run predictions"
   ]
  },
  {
   "cell_type": "code",
   "execution_count": 9,
   "id": "ab531ff3",
   "metadata": {},
   "outputs": [],
   "source": [
    "y_pred = pd.DataFrame(regressor.predict(Xtest),columns=['pred'],index=Xtest.index)"
   ]
  },
  {
   "cell_type": "markdown",
   "id": "f1b6790e",
   "metadata": {},
   "source": [
    "## Using the actual shapash package"
   ]
  },
  {
   "cell_type": "markdown",
   "id": "76d2d86b",
   "metadata": {},
   "source": [
    "### Declare the SmartExplainer object"
   ]
  },
  {
   "cell_type": "code",
   "execution_count": 10,
   "id": "95639b0f",
   "metadata": {},
   "outputs": [],
   "source": [
    "# Step 1: Declare SmartExplainer Object\n",
    "# https://shapash.readthedocs.io/en/latest/autodocs/shapash.explainer.html\n",
    "xpl = SmartExplainer()"
   ]
  },
  {
   "cell_type": "markdown",
   "id": "21c30952",
   "metadata": {},
   "source": [
    "### Compile Model, Dataset, Encoders"
   ]
  },
  {
   "cell_type": "code",
   "execution_count": 11,
   "id": "dadd8744",
   "metadata": {
    "scrolled": true
   },
   "outputs": [
    {
     "name": "stdout",
     "output_type": "stream",
     "text": [
      "Backend: Shap TreeExplainer\n"
     ]
    }
   ],
   "source": [
    "# Step 2: Compile Model, Dataset, Encoders\n",
    "xpl.compile(\n",
    "    x=Xtest,\n",
    "    model=regressor,\n",
    "    preprocessing=encoder, # Optional: compile step can use inverse_transform method\n",
    "    y_pred=y_pred, # Optional\n",
    ")"
   ]
  },
  {
   "cell_type": "markdown",
   "id": "5ca7bd12",
   "metadata": {},
   "source": [
    "### Display output as interactive app"
   ]
  },
  {
   "cell_type": "code",
   "execution_count": 12,
   "id": "18e97f1f",
   "metadata": {},
   "outputs": [
    {
     "name": "stderr",
     "output_type": "stream",
     "text": [
      "INFO:root:Your Shapash application run on http://DESKTOP-7JL51FR:8050/\n"
     ]
    },
    {
     "name": "stdout",
     "output_type": "stream",
     "text": [
      "Dash is running on http://0.0.0.0:8050/\n",
      "\n"
     ]
    },
    {
     "name": "stderr",
     "output_type": "stream",
     "text": [
      "INFO:root:Use the method .kill() to down your app.\n",
      "INFO:shapash.webapp.smart_app:Dash is running on http://0.0.0.0:8050/\n",
      "\n"
     ]
    },
    {
     "name": "stdout",
     "output_type": "stream",
     "text": [
      " * Serving Flask app 'shapash.webapp.smart_app' (lazy loading)\n",
      " * Environment: production\n",
      "\u001b[31m   WARNING: This is a development server. Do not use it in a production deployment.\u001b[0m\n",
      "\u001b[2m   Use a production WSGI server instead.\u001b[0m\n",
      " * Debug mode: off\n"
     ]
    }
   ],
   "source": [
    "# Step 3: Display output\n",
    "app = xpl.run_app()"
   ]
  },
  {
   "cell_type": "markdown",
   "id": "a1644597",
   "metadata": {},
   "source": [
    "### Show feature explainability"
   ]
  },
  {
   "cell_type": "code",
   "execution_count": 13,
   "id": "85c95d2c",
   "metadata": {},
   "outputs": [
    {
     "name": "stderr",
     "output_type": "stream",
     "text": [
      "WARNING:werkzeug: * Running on all addresses.\n",
      "   WARNING: This is a development server. Do not use it in a production deployment.\n",
      "INFO:werkzeug: * Running on http://192.168.1.74:8050/ (Press CTRL+C to quit)\n"
     ]
    },
    {
     "data": {
      "text/html": [
       "<div>\n",
       "<style scoped>\n",
       "    .dataframe tbody tr th:only-of-type {\n",
       "        vertical-align: middle;\n",
       "    }\n",
       "\n",
       "    .dataframe tbody tr th {\n",
       "        vertical-align: top;\n",
       "    }\n",
       "\n",
       "    .dataframe thead th {\n",
       "        text-align: right;\n",
       "    }\n",
       "</style>\n",
       "<table border=\"1\" class=\"dataframe\">\n",
       "  <thead>\n",
       "    <tr style=\"text-align: right;\">\n",
       "      <th></th>\n",
       "      <th>pred</th>\n",
       "      <th>feature_1</th>\n",
       "      <th>value_1</th>\n",
       "      <th>contribution_1</th>\n",
       "      <th>feature_2</th>\n",
       "      <th>value_2</th>\n",
       "      <th>contribution_2</th>\n",
       "      <th>feature_3</th>\n",
       "      <th>value_3</th>\n",
       "      <th>contribution_3</th>\n",
       "    </tr>\n",
       "  </thead>\n",
       "  <tbody>\n",
       "    <tr>\n",
       "      <th>58</th>\n",
       "      <td>66.797417</td>\n",
       "      <td>Age</td>\n",
       "      <td>27</td>\n",
       "      <td>14.763532</td>\n",
       "      <td>Annual Income (k$)</td>\n",
       "      <td>46</td>\n",
       "      <td>2.33574</td>\n",
       "      <td>Gender</td>\n",
       "      <td>Female</td>\n",
       "      <td>-0.260188</td>\n",
       "    </tr>\n",
       "    <tr>\n",
       "      <th>40</th>\n",
       "      <td>37.507324</td>\n",
       "      <td>Age</td>\n",
       "      <td>65</td>\n",
       "      <td>-14.006882</td>\n",
       "      <td>Annual Income (k$)</td>\n",
       "      <td>38</td>\n",
       "      <td>1.103943</td>\n",
       "      <td>Gender</td>\n",
       "      <td>Female</td>\n",
       "      <td>0.45193</td>\n",
       "    </tr>\n",
       "    <tr>\n",
       "      <th>34</th>\n",
       "      <td>25.459063</td>\n",
       "      <td>Age</td>\n",
       "      <td>49</td>\n",
       "      <td>-15.790038</td>\n",
       "      <td>Annual Income (k$)</td>\n",
       "      <td>33</td>\n",
       "      <td>-9.17716</td>\n",
       "      <td>Gender</td>\n",
       "      <td>Female</td>\n",
       "      <td>0.467928</td>\n",
       "    </tr>\n",
       "    <tr>\n",
       "      <th>102</th>\n",
       "      <td>40.810482</td>\n",
       "      <td>Age</td>\n",
       "      <td>67</td>\n",
       "      <td>-13.319123</td>\n",
       "      <td>Annual Income (k$)</td>\n",
       "      <td>62</td>\n",
       "      <td>4.965449</td>\n",
       "      <td>Gender</td>\n",
       "      <td>Male</td>\n",
       "      <td>-0.794178</td>\n",
       "    </tr>\n",
       "    <tr>\n",
       "      <th>184</th>\n",
       "      <td>27.366683</td>\n",
       "      <td>Age</td>\n",
       "      <td>41</td>\n",
       "      <td>-19.319643</td>\n",
       "      <td>Annual Income (k$)</td>\n",
       "      <td>99</td>\n",
       "      <td>-4.422505</td>\n",
       "      <td>Gender</td>\n",
       "      <td>Female</td>\n",
       "      <td>1.150498</td>\n",
       "    </tr>\n",
       "  </tbody>\n",
       "</table>\n",
       "</div>"
      ],
      "text/plain": [
       "          pred feature_1 value_1 contribution_1           feature_2 value_2  \\\n",
       "58   66.797417       Age      27      14.763532  Annual Income (k$)      46   \n",
       "40   37.507324       Age      65     -14.006882  Annual Income (k$)      38   \n",
       "34   25.459063       Age      49     -15.790038  Annual Income (k$)      33   \n",
       "102  40.810482       Age      67     -13.319123  Annual Income (k$)      62   \n",
       "184  27.366683       Age      41     -19.319643  Annual Income (k$)      99   \n",
       "\n",
       "    contribution_2 feature_3 value_3 contribution_3  \n",
       "58         2.33574    Gender  Female      -0.260188  \n",
       "40        1.103943    Gender  Female        0.45193  \n",
       "34        -9.17716    Gender  Female       0.467928  \n",
       "102       4.965449    Gender    Male      -0.794178  \n",
       "184      -4.422505    Gender  Female       1.150498  "
      ]
     },
     "execution_count": 13,
     "metadata": {},
     "output_type": "execute_result"
    }
   ],
   "source": [
    "xpl.to_pandas(max_contrib=3).head()"
   ]
  },
  {
   "cell_type": "markdown",
   "id": "f9ed1622",
   "metadata": {},
   "source": [
    "### Generate the Shapash Report"
   ]
  },
  {
   "cell_type": "code",
   "execution_count": 14,
   "id": "00e043fb",
   "metadata": {},
   "outputs": [
    {
     "name": "stderr",
     "output_type": "stream",
     "text": [
      "INFO:papermill:Input Notebook:  C:\\Users\\dawne\\anaconda3\\envs\\shapash\\Lib\\site-packages\\shapash\\report\\base_report.ipynb\n",
      "INFO:papermill:Output Notebook: C:\\Users\\dawne\\AppData\\Local\\Temp\\tmpodvwfajs\\base_report.ipynb\n",
      "INFO:blib2to3.pgen2.driver:Generating grammar tables from C:\\Users\\dawne\\AppData\\Roaming\\Python\\Python37\\site-packages\\blib2to3\\Grammar.txt\n",
      "INFO:blib2to3.pgen2.driver:Writing grammar tables to C:\\Users\\dawne\\AppData\\Local\\black\\black\\Cache\\21.7b0\\Grammar3.7.11.final.0.pickle\n",
      "INFO:blib2to3.pgen2.driver:Writing failed: [Errno 2] No such file or directory: 'C:\\\\Users\\\\dawne\\\\AppData\\\\Local\\\\black\\\\black\\\\Cache\\\\21.7b0\\\\tmpjt931kcq'\n",
      "INFO:blib2to3.pgen2.driver:Generating grammar tables from C:\\Users\\dawne\\AppData\\Roaming\\Python\\Python37\\site-packages\\blib2to3\\PatternGrammar.txt\n",
      "INFO:blib2to3.pgen2.driver:Writing grammar tables to C:\\Users\\dawne\\AppData\\Local\\black\\black\\Cache\\21.7b0\\PatternGrammar3.7.11.final.0.pickle\n",
      "INFO:blib2to3.pgen2.driver:Writing failed: [Errno 2] No such file or directory: 'C:\\\\Users\\\\dawne\\\\AppData\\\\Local\\\\black\\\\black\\\\Cache\\\\21.7b0\\\\tmpof73mqr4'\n"
     ]
    },
    {
     "data": {
      "application/vnd.jupyter.widget-view+json": {
       "model_id": "c778a8cbf6524c7c8039588a06fb1a47",
       "version_major": 2,
       "version_minor": 0
      },
      "text/plain": [
       "Executing:   0%|          | 0/15 [00:00<?, ?cell/s]"
      ]
     },
     "metadata": {},
     "output_type": "display_data"
    },
    {
     "name": "stderr",
     "output_type": "stream",
     "text": [
      "INFO:papermill:Executing notebook with kernel: python3\n"
     ]
    }
   ],
   "source": [
    "# Step 4: Generate the Shapash Report\n",
    "# https://github.com/MAIF/shapash/blob/master/tutorial/report/shapash_report_example.py\n",
    "\n",
    "xpl.generate_report(\n",
    "        output_file='medium_spending_scores_report2.html',\n",
    "        project_info_file='shapash_project_info.yml',\n",
    "        x_train=Xtrain,\n",
    "        y_train=ytrain,\n",
    "        y_test=ytest,\n",
    "        title_story=\"Spending Scores Report\",\n",
    "        title_description=\"\"\"This is just an easy sample.\n",
    "            It was generated using the Shapash library.\"\"\",\n",
    "        metrics=[\n",
    "            {\n",
    "                'path': 'sklearn.metrics.mean_absolute_error',\n",
    "                'name': 'Mean absolute error',\n",
    "            }\n",
    "        ]\n",
    "    )"
   ]
  },
  {
   "cell_type": "code",
   "execution_count": 15,
   "id": "15c89db7",
   "metadata": {},
   "outputs": [
    {
     "name": "stderr",
     "output_type": "stream",
     "text": [
      "INFO:werkzeug:192.168.1.74 - - [04/Aug/2021 21:12:21] \"GET / HTTP/1.1\" 200 -\n",
      "INFO:werkzeug:192.168.1.74 - - [04/Aug/2021 21:12:21] \"\u001b[36mGET /assets/material-icons.css?m=1628108331.4625525 HTTP/1.1\u001b[0m\" 304 -\n",
      "INFO:werkzeug:192.168.1.74 - - [04/Aug/2021 21:12:21] \"\u001b[36mGET /assets/style.css?m=1628108331.473523 HTTP/1.1\u001b[0m\" 304 -\n",
      "INFO:werkzeug:192.168.1.74 - - [04/Aug/2021 21:12:21] \"\u001b[36mGET /assets/jquery.js?m=1628108331.457566 HTTP/1.1\u001b[0m\" 304 -\n",
      "INFO:werkzeug:192.168.1.74 - - [04/Aug/2021 21:12:21] \"\u001b[36mGET /assets/main.js?m=1628108331.460558 HTTP/1.1\u001b[0m\" 304 -\n",
      "INFO:werkzeug:192.168.1.74 - - [04/Aug/2021 21:12:22] \"GET /_dash-dependencies HTTP/1.1\" 200 -\n",
      "INFO:werkzeug:192.168.1.74 - - [04/Aug/2021 21:12:22] \"GET /_dash-layout HTTP/1.1\" 200 -\n",
      "INFO:werkzeug:192.168.1.74 - - [04/Aug/2021 21:12:22] \"\u001b[36mGET /assets/shapash-fond-fonce.png HTTP/1.1\u001b[0m\" 304 -\n",
      "INFO:werkzeug:192.168.1.74 - - [04/Aug/2021 21:12:22] \"\u001b[36mGET /assets/settings.png HTTP/1.1\u001b[0m\" 304 -\n",
      "INFO:werkzeug:192.168.1.74 - - [04/Aug/2021 21:12:22] \"\u001b[36mGET /assets/reload.png HTTP/1.1\u001b[0m\" 304 -\n",
      "INFO:werkzeug:192.168.1.74 - - [04/Aug/2021 21:12:22] \"POST /_dash-update-component HTTP/1.1\" 200 -\n",
      "INFO:werkzeug:192.168.1.74 - - [04/Aug/2021 21:12:22] \"POST /_dash-update-component HTTP/1.1\" 200 -\n",
      "INFO:werkzeug:192.168.1.74 - - [04/Aug/2021 21:12:22] \"POST /_dash-update-component HTTP/1.1\" 200 -\n",
      "INFO:werkzeug:192.168.1.74 - - [04/Aug/2021 21:12:22] \"POST /_dash-update-component HTTP/1.1\" 200 -\n",
      "INFO:werkzeug:192.168.1.74 - - [04/Aug/2021 21:12:22] \"POST /_dash-update-component HTTP/1.1\" 200 -\n",
      "INFO:werkzeug:192.168.1.74 - - [04/Aug/2021 21:12:22] \"POST /_dash-update-component HTTP/1.1\" 200 -\n",
      "INFO:werkzeug:192.168.1.74 - - [04/Aug/2021 21:12:22] \"POST /_dash-update-component HTTP/1.1\" 200 -\n",
      "INFO:werkzeug:192.168.1.74 - - [04/Aug/2021 21:12:22] \"POST /_dash-update-component HTTP/1.1\" 200 -\n",
      "INFO:werkzeug:192.168.1.74 - - [04/Aug/2021 21:12:22] \"POST /_dash-update-component HTTP/1.1\" 200 -\n",
      "INFO:werkzeug:192.168.1.74 - - [04/Aug/2021 21:12:22] \"POST /_dash-update-component HTTP/1.1\" 200 -\n",
      "INFO:werkzeug:192.168.1.74 - - [04/Aug/2021 21:12:22] \"POST /_dash-update-component HTTP/1.1\" 200 -\n",
      "INFO:werkzeug:192.168.1.74 - - [04/Aug/2021 21:12:22] \"POST /_dash-update-component HTTP/1.1\" 200 -\n",
      "INFO:werkzeug:192.168.1.74 - - [04/Aug/2021 21:12:22] \"POST /_dash-update-component HTTP/1.1\" 200 -\n",
      "INFO:werkzeug:192.168.1.74 - - [04/Aug/2021 21:12:23] \"POST /_dash-update-component HTTP/1.1\" 200 -\n",
      "INFO:werkzeug:192.168.1.74 - - [04/Aug/2021 21:12:23] \"POST /_dash-update-component HTTP/1.1\" 200 -\n",
      "INFO:werkzeug:192.168.1.74 - - [04/Aug/2021 21:12:23] \"POST /_dash-update-component HTTP/1.1\" 200 -\n",
      "INFO:werkzeug:192.168.1.74 - - [04/Aug/2021 21:12:23] \"POST /_dash-update-component HTTP/1.1\" 200 -\n",
      "INFO:werkzeug:192.168.1.74 - - [04/Aug/2021 21:12:23] \"POST /_dash-update-component HTTP/1.1\" 200 -\n",
      "INFO:werkzeug:192.168.1.74 - - [04/Aug/2021 21:12:23] \"POST /_dash-update-component HTTP/1.1\" 200 -\n",
      "INFO:werkzeug:192.168.1.74 - - [04/Aug/2021 21:12:26] \"\u001b[35m\u001b[1mPOST /_dash-update-component HTTP/1.1\u001b[0m\" 204 -\n",
      "INFO:werkzeug:192.168.1.74 - - [04/Aug/2021 21:12:26] \"POST /_dash-update-component HTTP/1.1\" 200 -\n",
      "INFO:werkzeug:192.168.1.74 - - [04/Aug/2021 21:12:51] \"POST /_dash-update-component HTTP/1.1\" 200 -\n",
      "INFO:werkzeug:192.168.1.74 - - [04/Aug/2021 21:12:51] \"POST /_dash-update-component HTTP/1.1\" 200 -\n",
      "INFO:werkzeug:192.168.1.74 - - [04/Aug/2021 21:12:57] \"POST /_dash-update-component HTTP/1.1\" 200 -\n",
      "INFO:werkzeug:192.168.1.74 - - [04/Aug/2021 21:13:00] \"POST /_dash-update-component HTTP/1.1\" 200 -\n"
     ]
    }
   ],
   "source": [
    "#  Step 5: From training to deployment : SmartPredictor Object\n",
    "# predictor = xpl.to_smartpredictor()"
   ]
  }
 ],
 "metadata": {
  "kernelspec": {
   "display_name": "Python 3",
   "language": "python",
   "name": "python3"
  },
  "language_info": {
   "codemirror_mode": {
    "name": "ipython",
    "version": 3
   },
   "file_extension": ".py",
   "mimetype": "text/x-python",
   "name": "python",
   "nbconvert_exporter": "python",
   "pygments_lexer": "ipython3",
   "version": "3.7.11"
  },
  "toc": {
   "base_numbering": 1,
   "nav_menu": {},
   "number_sections": true,
   "sideBar": true,
   "skip_h1_title": true,
   "title_cell": "Table of Contents",
   "title_sidebar": "Table of Contents",
   "toc_cell": true,
   "toc_position": {
    "height": "calc(100% - 180px)",
    "left": "10px",
    "top": "150px",
    "width": "283.6px"
   },
   "toc_section_display": true,
   "toc_window_display": true
  }
 },
 "nbformat": 4,
 "nbformat_minor": 5
}
